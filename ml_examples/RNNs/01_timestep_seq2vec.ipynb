{
 "cells": [
  {
   "cell_type": "code",
   "execution_count": 1,
   "metadata": {},
   "outputs": [],
   "source": [
    "import numpy as np\n",
    "from tensorflow import keras"
   ]
  },
  {
   "cell_type": "code",
   "execution_count": 2,
   "metadata": {},
   "outputs": [],
   "source": [
    "def generate_time_series(batch_size, n_steps):\n",
    "    freq1 ,freq2, offset1, offset2 = np.random.rand(4, batch_size, 1)\n",
    "    time = np.linspace(0, 1, n_steps)\n",
    "    series = 0.5 * np.sin((time - offset1) * (freq1 * 10 + 10))\n",
    "    series += 0.2 * np.sin((time - offset2) * (freq2 * 20 + 20))\n",
    "    series += 0.1 * (np.random.rand(batch_size, n_steps) - 0.5)\n",
    "    return series[..., np.newaxis].astype(np.float32)"
   ]
  },
  {
   "cell_type": "code",
   "execution_count": 3,
   "metadata": {},
   "outputs": [],
   "source": [
    "n_steps = 50\n",
    "series = generate_time_series(10000, n_steps + 1)\n",
    "\n",
    "train_X = series[:7500, :n_steps]\n",
    "train_y = series[:7500, -1]\n",
    "valid_X = series[7500:, :n_steps]\n",
    "valid_y = series[7500:, -1]"
   ]
  },
  {
   "cell_type": "code",
   "execution_count": 4,
   "metadata": {},
   "outputs": [
    {
     "data": {
      "text/plain": [
       "0.021025112"
      ]
     },
     "execution_count": 4,
     "metadata": {},
     "output_type": "execute_result"
    }
   ],
   "source": [
    "valid_pred_naive_y = valid_X[:, -1]\n",
    "np.mean(keras.losses.mean_squared_error(valid_y, valid_pred_naive_y))"
   ]
  },
  {
   "cell_type": "code",
   "execution_count": 5,
   "metadata": {},
   "outputs": [],
   "source": [
    "early_stop_cb = keras.callbacks.EarlyStopping(patience=5, restore_best_weights=True)"
   ]
  },
  {
   "cell_type": "code",
   "execution_count": 6,
   "metadata": {},
   "outputs": [
    {
     "name": "stdout",
     "output_type": "stream",
     "text": [
      "Epoch 1/50\n",
      "235/235 [==============================] - 0s 906us/step - loss: 0.0754 - val_loss: 0.0275\n",
      "Epoch 2/50\n",
      "235/235 [==============================] - 0s 521us/step - loss: 0.0185 - val_loss: 0.0138\n",
      "Epoch 3/50\n",
      "235/235 [==============================] - 0s 538us/step - loss: 0.0111 - val_loss: 0.0101\n",
      "Epoch 4/50\n",
      "235/235 [==============================] - 0s 526us/step - loss: 0.0085 - val_loss: 0.0080\n",
      "Epoch 5/50\n",
      "235/235 [==============================] - 0s 530us/step - loss: 0.0071 - val_loss: 0.0069\n",
      "Epoch 6/50\n",
      "235/235 [==============================] - 0s 527us/step - loss: 0.0063 - val_loss: 0.0061\n",
      "Epoch 7/50\n",
      "235/235 [==============================] - 0s 530us/step - loss: 0.0056 - val_loss: 0.0055\n",
      "Epoch 8/50\n",
      "235/235 [==============================] - 0s 559us/step - loss: 0.0051 - val_loss: 0.0051\n",
      "Epoch 9/50\n",
      "235/235 [==============================] - 0s 523us/step - loss: 0.0047 - val_loss: 0.0048\n",
      "Epoch 10/50\n",
      "235/235 [==============================] - 0s 529us/step - loss: 0.0044 - val_loss: 0.0045\n",
      "Epoch 11/50\n",
      "235/235 [==============================] - 0s 536us/step - loss: 0.0043 - val_loss: 0.0044\n",
      "Epoch 12/50\n",
      "235/235 [==============================] - 0s 597us/step - loss: 0.0041 - val_loss: 0.0042\n",
      "Epoch 13/50\n",
      "235/235 [==============================] - 0s 608us/step - loss: 0.0040 - val_loss: 0.0042\n",
      "Epoch 14/50\n",
      "235/235 [==============================] - 0s 570us/step - loss: 0.0039 - val_loss: 0.0040\n",
      "Epoch 15/50\n",
      "235/235 [==============================] - 0s 560us/step - loss: 0.0038 - val_loss: 0.0040\n",
      "Epoch 16/50\n",
      "235/235 [==============================] - 0s 650us/step - loss: 0.0037 - val_loss: 0.0039\n",
      "Epoch 17/50\n",
      "235/235 [==============================] - 0s 589us/step - loss: 0.0037 - val_loss: 0.0038\n",
      "Epoch 18/50\n",
      "235/235 [==============================] - 0s 535us/step - loss: 0.0036 - val_loss: 0.0037\n",
      "Epoch 19/50\n",
      "235/235 [==============================] - 0s 551us/step - loss: 0.0036 - val_loss: 0.0038\n",
      "Epoch 20/50\n",
      "235/235 [==============================] - 0s 520us/step - loss: 0.0035 - val_loss: 0.0036\n",
      "Epoch 21/50\n",
      "235/235 [==============================] - 0s 526us/step - loss: 0.0035 - val_loss: 0.0036\n",
      "Epoch 22/50\n",
      "235/235 [==============================] - 0s 530us/step - loss: 0.0034 - val_loss: 0.0035\n",
      "Epoch 23/50\n",
      "235/235 [==============================] - 0s 628us/step - loss: 0.0034 - val_loss: 0.0036\n",
      "Epoch 24/50\n",
      "235/235 [==============================] - 0s 550us/step - loss: 0.0034 - val_loss: 0.0035\n",
      "Epoch 25/50\n",
      "235/235 [==============================] - 0s 522us/step - loss: 0.0034 - val_loss: 0.0035\n",
      "Epoch 26/50\n",
      "235/235 [==============================] - 0s 528us/step - loss: 0.0033 - val_loss: 0.0034\n",
      "Epoch 27/50\n",
      "235/235 [==============================] - 0s 539us/step - loss: 0.0033 - val_loss: 0.0034\n",
      "Epoch 28/50\n",
      "235/235 [==============================] - 0s 526us/step - loss: 0.0033 - val_loss: 0.0034\n",
      "Epoch 29/50\n",
      "235/235 [==============================] - 0s 518us/step - loss: 0.0032 - val_loss: 0.0033\n",
      "Epoch 30/50\n",
      "235/235 [==============================] - 0s 519us/step - loss: 0.0032 - val_loss: 0.0033\n",
      "Epoch 31/50\n",
      "235/235 [==============================] - 0s 532us/step - loss: 0.0032 - val_loss: 0.0033\n",
      "Epoch 32/50\n",
      "235/235 [==============================] - 0s 571us/step - loss: 0.0032 - val_loss: 0.0033\n",
      "Epoch 33/50\n",
      "235/235 [==============================] - 0s 527us/step - loss: 0.0032 - val_loss: 0.0033\n",
      "Epoch 34/50\n",
      "235/235 [==============================] - 0s 525us/step - loss: 0.0032 - val_loss: 0.0032\n",
      "Epoch 35/50\n",
      "235/235 [==============================] - 0s 530us/step - loss: 0.0031 - val_loss: 0.0033\n",
      "Epoch 36/50\n",
      "235/235 [==============================] - 0s 535us/step - loss: 0.0032 - val_loss: 0.0033\n",
      "Epoch 37/50\n",
      "235/235 [==============================] - 0s 534us/step - loss: 0.0031 - val_loss: 0.0033\n",
      "Epoch 38/50\n",
      "235/235 [==============================] - 0s 524us/step - loss: 0.0031 - val_loss: 0.0033\n",
      "Epoch 39/50\n",
      "235/235 [==============================] - 0s 529us/step - loss: 0.0031 - val_loss: 0.0032\n",
      "Epoch 40/50\n",
      "235/235 [==============================] - 0s 530us/step - loss: 0.0031 - val_loss: 0.0032\n",
      "Epoch 41/50\n",
      "235/235 [==============================] - 0s 522us/step - loss: 0.0031 - val_loss: 0.0032\n",
      "Epoch 42/50\n",
      "235/235 [==============================] - 0s 536us/step - loss: 0.0031 - val_loss: 0.0032\n",
      "Epoch 43/50\n",
      "235/235 [==============================] - 0s 553us/step - loss: 0.0031 - val_loss: 0.0032\n",
      "Epoch 44/50\n",
      "235/235 [==============================] - 0s 523us/step - loss: 0.0031 - val_loss: 0.0032\n",
      "Epoch 45/50\n",
      "235/235 [==============================] - 0s 522us/step - loss: 0.0031 - val_loss: 0.0033\n",
      "Epoch 46/50\n",
      "235/235 [==============================] - 0s 527us/step - loss: 0.0031 - val_loss: 0.0032\n",
      "Epoch 47/50\n",
      "235/235 [==============================] - 0s 517us/step - loss: 0.0031 - val_loss: 0.0032\n",
      "Epoch 48/50\n",
      "235/235 [==============================] - 0s 524us/step - loss: 0.0030 - val_loss: 0.0033\n",
      "Epoch 49/50\n",
      "235/235 [==============================] - 0s 523us/step - loss: 0.0031 - val_loss: 0.0032\n",
      "Epoch 50/50\n",
      "235/235 [==============================] - 0s 520us/step - loss: 0.0030 - val_loss: 0.0032\n"
     ]
    },
    {
     "data": {
      "text/plain": [
       "<tensorflow.python.keras.callbacks.History at 0x7fdd897a3580>"
      ]
     },
     "execution_count": 6,
     "metadata": {},
     "output_type": "execute_result"
    }
   ],
   "source": [
    "model_linear = keras.models.Sequential([\n",
    "    keras.layers.Flatten(input_shape=[50, 1]),\n",
    "    keras.layers.Dense(1)\n",
    "])\n",
    "\n",
    "model_linear.compile(loss='mean_squared_error', optimizer='Adam')\n",
    "model_linear.fit(train_X, train_y, epochs=50, validation_data=(valid_X, valid_y), callbacks=[early_stop_cb])"
   ]
  },
  {
   "cell_type": "code",
   "execution_count": 7,
   "metadata": {},
   "outputs": [
    {
     "name": "stdout",
     "output_type": "stream",
     "text": [
      "Epoch 1/50\n",
      "235/235 [==============================] - 0s 952us/step - loss: 0.0453 - val_loss: 0.0144\n",
      "Epoch 2/50\n",
      "235/235 [==============================] - 0s 703us/step - loss: 0.0103 - val_loss: 0.0090\n",
      "Epoch 3/50\n",
      "235/235 [==============================] - 0s 732us/step - loss: 0.0071 - val_loss: 0.0069\n",
      "Epoch 4/50\n",
      "235/235 [==============================] - 0s 728us/step - loss: 0.0057 - val_loss: 0.0056\n",
      "Epoch 5/50\n",
      "235/235 [==============================] - 0s 718us/step - loss: 0.0048 - val_loss: 0.0049\n",
      "Epoch 6/50\n",
      "235/235 [==============================] - 0s 708us/step - loss: 0.0044 - val_loss: 0.0044\n",
      "Epoch 7/50\n",
      "235/235 [==============================] - 0s 716us/step - loss: 0.0040 - val_loss: 0.0042\n",
      "Epoch 8/50\n",
      "235/235 [==============================] - 0s 701us/step - loss: 0.0037 - val_loss: 0.0039\n",
      "Epoch 9/50\n",
      "235/235 [==============================] - 0s 723us/step - loss: 0.0036 - val_loss: 0.0040\n",
      "Epoch 10/50\n",
      "235/235 [==============================] - 0s 723us/step - loss: 0.0034 - val_loss: 0.0038\n",
      "Epoch 11/50\n",
      "235/235 [==============================] - 0s 706us/step - loss: 0.0033 - val_loss: 0.0038\n",
      "Epoch 12/50\n",
      "235/235 [==============================] - 0s 712us/step - loss: 0.0032 - val_loss: 0.0035\n",
      "Epoch 13/50\n",
      "235/235 [==============================] - 0s 736us/step - loss: 0.0032 - val_loss: 0.0035\n",
      "Epoch 14/50\n",
      "235/235 [==============================] - 0s 697us/step - loss: 0.0031 - val_loss: 0.0035\n",
      "Epoch 15/50\n",
      "235/235 [==============================] - 0s 701us/step - loss: 0.0030 - val_loss: 0.0035\n",
      "Epoch 16/50\n",
      "235/235 [==============================] - 0s 715us/step - loss: 0.0029 - val_loss: 0.0032\n",
      "Epoch 17/50\n",
      "235/235 [==============================] - 0s 730us/step - loss: 0.0030 - val_loss: 0.0032\n",
      "Epoch 18/50\n",
      "235/235 [==============================] - 0s 696us/step - loss: 0.0029 - val_loss: 0.0035\n",
      "Epoch 19/50\n",
      "235/235 [==============================] - 0s 738us/step - loss: 0.0028 - val_loss: 0.0034\n",
      "Epoch 20/50\n",
      "235/235 [==============================] - 0s 741us/step - loss: 0.0029 - val_loss: 0.0032\n",
      "Epoch 21/50\n",
      "235/235 [==============================] - 0s 712us/step - loss: 0.0029 - val_loss: 0.0033\n",
      "Epoch 22/50\n",
      "235/235 [==============================] - 0s 708us/step - loss: 0.0028 - val_loss: 0.0034\n"
     ]
    },
    {
     "data": {
      "text/plain": [
       "<tensorflow.python.keras.callbacks.History at 0x7fdd69ee7970>"
      ]
     },
     "execution_count": 7,
     "metadata": {},
     "output_type": "execute_result"
    }
   ],
   "source": [
    "model_baseline = keras.models.Sequential([\n",
    "    keras.layers.Flatten(input_shape=[50, 1]),\n",
    "    keras.layers.Dense(30, activation='relu'),\n",
    "    keras.layers.Dense(1)\n",
    "])\n",
    "\n",
    "model_baseline.compile(loss='mean_squared_error', optimizer='Adam')\n",
    "model_baseline.fit(train_X, train_y, epochs=50, validation_data=(valid_X, valid_y), callbacks=[early_stop_cb])"
   ]
  },
  {
   "cell_type": "code",
   "execution_count": 8,
   "metadata": {},
   "outputs": [
    {
     "name": "stdout",
     "output_type": "stream",
     "text": [
      "Epoch 1/50\n",
      "235/235 [==============================] - 2s 5ms/step - loss: 0.1928 - val_loss: 0.1713\n",
      "Epoch 2/50\n",
      "235/235 [==============================] - 1s 4ms/step - loss: 0.1582 - val_loss: 0.1416\n",
      "Epoch 3/50\n",
      "235/235 [==============================] - 1s 4ms/step - loss: 0.1312 - val_loss: 0.1163\n",
      "Epoch 4/50\n",
      "235/235 [==============================] - 1s 4ms/step - loss: 0.1056 - val_loss: 0.0915\n",
      "Epoch 5/50\n",
      "235/235 [==============================] - 1s 4ms/step - loss: 0.0825 - val_loss: 0.0706\n",
      "Epoch 6/50\n",
      "235/235 [==============================] - 1s 4ms/step - loss: 0.0627 - val_loss: 0.0527\n",
      "Epoch 7/50\n",
      "235/235 [==============================] - 1s 4ms/step - loss: 0.0461 - val_loss: 0.0381\n",
      "Epoch 8/50\n",
      "235/235 [==============================] - 1s 5ms/step - loss: 0.0329 - val_loss: 0.0270\n",
      "Epoch 9/50\n",
      "235/235 [==============================] - 1s 5ms/step - loss: 0.0234 - val_loss: 0.0196\n",
      "Epoch 10/50\n",
      "235/235 [==============================] - 1s 5ms/step - loss: 0.0175 - val_loss: 0.0156\n",
      "Epoch 11/50\n",
      "235/235 [==============================] - 1s 5ms/step - loss: 0.0145 - val_loss: 0.0137\n",
      "Epoch 12/50\n",
      "235/235 [==============================] - 1s 5ms/step - loss: 0.0132 - val_loss: 0.0130\n",
      "Epoch 13/50\n",
      "235/235 [==============================] - 1s 5ms/step - loss: 0.0127 - val_loss: 0.0127\n",
      "Epoch 14/50\n",
      "235/235 [==============================] - 1s 4ms/step - loss: 0.0124 - val_loss: 0.0125\n",
      "Epoch 15/50\n",
      "235/235 [==============================] - 1s 5ms/step - loss: 0.0123 - val_loss: 0.0124\n",
      "Epoch 16/50\n",
      "235/235 [==============================] - 1s 5ms/step - loss: 0.0121 - val_loss: 0.0122\n",
      "Epoch 17/50\n",
      "235/235 [==============================] - 1s 5ms/step - loss: 0.0120 - val_loss: 0.0122\n",
      "Epoch 18/50\n",
      "235/235 [==============================] - 1s 5ms/step - loss: 0.0119 - val_loss: 0.0120\n",
      "Epoch 19/50\n",
      "235/235 [==============================] - 1s 4ms/step - loss: 0.0118 - val_loss: 0.0119\n",
      "Epoch 20/50\n",
      "235/235 [==============================] - 1s 4ms/step - loss: 0.0117 - val_loss: 0.0119\n",
      "Epoch 21/50\n",
      "235/235 [==============================] - 1s 4ms/step - loss: 0.0116 - val_loss: 0.0118\n",
      "Epoch 22/50\n",
      "235/235 [==============================] - 1s 4ms/step - loss: 0.0115 - val_loss: 0.0118\n",
      "Epoch 23/50\n",
      "235/235 [==============================] - 1s 4ms/step - loss: 0.0115 - val_loss: 0.0117\n",
      "Epoch 24/50\n",
      "235/235 [==============================] - 1s 4ms/step - loss: 0.0115 - val_loss: 0.0117\n",
      "Epoch 25/50\n",
      "235/235 [==============================] - 1s 4ms/step - loss: 0.0115 - val_loss: 0.0117\n",
      "Epoch 26/50\n",
      "235/235 [==============================] - 1s 4ms/step - loss: 0.0114 - val_loss: 0.0117\n",
      "Epoch 27/50\n",
      "235/235 [==============================] - 1s 5ms/step - loss: 0.0114 - val_loss: 0.0117\n",
      "Epoch 28/50\n",
      "235/235 [==============================] - 1s 4ms/step - loss: 0.0114 - val_loss: 0.0117\n",
      "Epoch 29/50\n",
      "235/235 [==============================] - 1s 4ms/step - loss: 0.0114 - val_loss: 0.0117\n",
      "Epoch 30/50\n",
      "235/235 [==============================] - 1s 4ms/step - loss: 0.0114 - val_loss: 0.0117\n",
      "Epoch 31/50\n",
      "235/235 [==============================] - 1s 4ms/step - loss: 0.0114 - val_loss: 0.0117\n",
      "Epoch 32/50\n",
      "235/235 [==============================] - 1s 5ms/step - loss: 0.0114 - val_loss: 0.0117\n",
      "Epoch 33/50\n",
      "235/235 [==============================] - 1s 4ms/step - loss: 0.0114 - val_loss: 0.0117\n",
      "Epoch 34/50\n",
      "235/235 [==============================] - 1s 4ms/step - loss: 0.0114 - val_loss: 0.0117\n",
      "Epoch 35/50\n",
      "235/235 [==============================] - 1s 4ms/step - loss: 0.0114 - val_loss: 0.0117\n",
      "Epoch 36/50\n",
      "235/235 [==============================] - 1s 4ms/step - loss: 0.0114 - val_loss: 0.0117\n"
     ]
    },
    {
     "data": {
      "text/plain": [
       "<tensorflow.python.keras.callbacks.History at 0x7fdd6a284430>"
      ]
     },
     "execution_count": 8,
     "metadata": {},
     "output_type": "execute_result"
    }
   ],
   "source": [
    "model_simpleRNN = keras.models.Sequential([\n",
    "    keras.layers.SimpleRNN(1, input_shape=[None, 1])\n",
    "])\n",
    "\n",
    "model_simpleRNN.compile(loss='mean_squared_error', optimizer='Adam')\n",
    "model_simpleRNN.fit(train_X, train_y, epochs=50, validation_data=(valid_X, valid_y), callbacks=[early_stop_cb])"
   ]
  },
  {
   "cell_type": "code",
   "execution_count": 10,
   "metadata": {},
   "outputs": [
    {
     "name": "stdout",
     "output_type": "stream",
     "text": [
      "Epoch 1/50\n",
      "235/235 [==============================] - 4s 13ms/step - loss: 0.0085 - val_loss: 0.0034\n",
      "Epoch 2/50\n",
      "235/235 [==============================] - 3s 12ms/step - loss: 0.0031 - val_loss: 0.0030\n",
      "Epoch 3/50\n",
      "235/235 [==============================] - 3s 12ms/step - loss: 0.0031 - val_loss: 0.0036\n",
      "Epoch 4/50\n",
      "235/235 [==============================] - 3s 12ms/step - loss: 0.0029 - val_loss: 0.0030\n",
      "Epoch 5/50\n",
      "235/235 [==============================] - 3s 12ms/step - loss: 0.0029 - val_loss: 0.0027\n",
      "Epoch 6/50\n",
      "235/235 [==============================] - 3s 12ms/step - loss: 0.0029 - val_loss: 0.0028\n",
      "Epoch 7/50\n",
      "235/235 [==============================] - 3s 12ms/step - loss: 0.0028 - val_loss: 0.0028\n",
      "Epoch 8/50\n",
      "235/235 [==============================] - 3s 12ms/step - loss: 0.0029 - val_loss: 0.0028\n",
      "Epoch 9/50\n",
      "235/235 [==============================] - 3s 11ms/step - loss: 0.0027 - val_loss: 0.0028\n",
      "Epoch 10/50\n",
      "235/235 [==============================] - 3s 11ms/step - loss: 0.0028 - val_loss: 0.0027\n"
     ]
    },
    {
     "data": {
      "text/plain": [
       "<tensorflow.python.keras.callbacks.History at 0x7fdd6ca19280>"
      ]
     },
     "execution_count": 10,
     "metadata": {},
     "output_type": "execute_result"
    }
   ],
   "source": [
    "model_deepRNN = keras.models.Sequential([\n",
    "    keras.layers.SimpleRNN(20, return_sequences=True, input_shape=[None,1]),\n",
    "    keras.layers.SimpleRNN(20),\n",
    "    keras.layers.Dense(1)\n",
    "])\n",
    "\n",
    "model_deepRNN.compile(loss='mean_squared_error', optimizer='Adam')\n",
    "model_deepRNN.fit(train_X, train_y, epochs=50, validation_data=(valid_X, valid_y), callbacks=[early_stop_cb])"
   ]
  },
  {
   "cell_type": "code",
   "execution_count": 11,
   "metadata": {},
   "outputs": [
    {
     "name": "stdout",
     "output_type": "stream",
     "text": [
      "Epoch 1/50\n",
      "235/235 [==============================] - 4s 13ms/step - loss: 0.1378 - val_loss: 0.1313\n",
      "Epoch 2/50\n",
      "235/235 [==============================] - 3s 11ms/step - loss: 0.1240 - val_loss: 0.1160\n",
      "Epoch 3/50\n",
      "235/235 [==============================] - 2s 9ms/step - loss: 0.1088 - val_loss: 0.1030\n",
      "Epoch 4/50\n",
      "235/235 [==============================] - 2s 9ms/step - loss: 0.0968 - val_loss: 0.0923\n",
      "Epoch 5/50\n",
      "235/235 [==============================] - 3s 11ms/step - loss: 0.0857 - val_loss: 0.0803\n",
      "Epoch 6/50\n",
      "235/235 [==============================] - 2s 11ms/step - loss: 0.0720 - val_loss: 0.0639\n",
      "Epoch 7/50\n",
      "235/235 [==============================] - 3s 11ms/step - loss: 0.0552 - val_loss: 0.0469\n",
      "Epoch 8/50\n",
      "235/235 [==============================] - 2s 10ms/step - loss: 0.0408 - val_loss: 0.0350\n",
      "Epoch 9/50\n",
      "235/235 [==============================] - 3s 11ms/step - loss: 0.0312 - val_loss: 0.0276\n",
      "Epoch 10/50\n",
      "235/235 [==============================] - 2s 11ms/step - loss: 0.0251 - val_loss: 0.0228\n",
      "Epoch 11/50\n",
      "235/235 [==============================] - 2s 11ms/step - loss: 0.0211 - val_loss: 0.0196\n",
      "Epoch 12/50\n",
      "235/235 [==============================] - 3s 11ms/step - loss: 0.0184 - val_loss: 0.0174\n",
      "Epoch 13/50\n",
      "235/235 [==============================] - 3s 11ms/step - loss: 0.0164 - val_loss: 0.0158\n",
      "Epoch 14/50\n",
      "235/235 [==============================] - 2s 10ms/step - loss: 0.0150 - val_loss: 0.0146\n",
      "Epoch 15/50\n",
      "235/235 [==============================] - 2s 10ms/step - loss: 0.0140 - val_loss: 0.0138\n",
      "Epoch 16/50\n",
      "235/235 [==============================] - 2s 10ms/step - loss: 0.0132 - val_loss: 0.0132\n",
      "Epoch 17/50\n",
      "235/235 [==============================] - 2s 10ms/step - loss: 0.0127 - val_loss: 0.0128\n",
      "Epoch 18/50\n",
      "235/235 [==============================] - 2s 9ms/step - loss: 0.0124 - val_loss: 0.0126\n",
      "Epoch 19/50\n",
      "235/235 [==============================] - 2s 9ms/step - loss: 0.0122 - val_loss: 0.0124\n",
      "Epoch 20/50\n",
      "235/235 [==============================] - 2s 10ms/step - loss: 0.0121 - val_loss: 0.0123\n",
      "Epoch 21/50\n",
      "235/235 [==============================] - 2s 9ms/step - loss: 0.0120 - val_loss: 0.0123\n",
      "Epoch 22/50\n",
      "235/235 [==============================] - 2s 9ms/step - loss: 0.0120 - val_loss: 0.0123\n",
      "Epoch 23/50\n",
      "235/235 [==============================] - 2s 9ms/step - loss: 0.0119 - val_loss: 0.0123\n",
      "Epoch 24/50\n",
      "235/235 [==============================] - 2s 9ms/step - loss: 0.0119 - val_loss: 0.0123\n",
      "Epoch 25/50\n",
      "235/235 [==============================] - 2s 8ms/step - loss: 0.0119 - val_loss: 0.0123\n",
      "Epoch 26/50\n",
      "235/235 [==============================] - 2s 9ms/step - loss: 0.0119 - val_loss: 0.0122\n",
      "Epoch 27/50\n",
      "235/235 [==============================] - 2s 9ms/step - loss: 0.0119 - val_loss: 0.0122\n",
      "Epoch 28/50\n",
      "235/235 [==============================] - 2s 9ms/step - loss: 0.0119 - val_loss: 0.0122\n",
      "Epoch 29/50\n",
      "235/235 [==============================] - 2s 8ms/step - loss: 0.0119 - val_loss: 0.0122\n",
      "Epoch 30/50\n",
      "235/235 [==============================] - 2s 8ms/step - loss: 0.0119 - val_loss: 0.0122\n",
      "Epoch 31/50\n",
      "235/235 [==============================] - 2s 8ms/step - loss: 0.0119 - val_loss: 0.0122\n",
      "Epoch 32/50\n",
      "235/235 [==============================] - 2s 9ms/step - loss: 0.0119 - val_loss: 0.0122\n",
      "Epoch 33/50\n",
      "235/235 [==============================] - 2s 8ms/step - loss: 0.0118 - val_loss: 0.0122\n",
      "Epoch 34/50\n",
      "235/235 [==============================] - 2s 8ms/step - loss: 0.0118 - val_loss: 0.0122\n",
      "Epoch 35/50\n",
      "235/235 [==============================] - 2s 9ms/step - loss: 0.0118 - val_loss: 0.0122\n",
      "Epoch 36/50\n",
      "235/235 [==============================] - 2s 9ms/step - loss: 0.0118 - val_loss: 0.0121\n",
      "Epoch 37/50\n",
      "235/235 [==============================] - 2s 9ms/step - loss: 0.0118 - val_loss: 0.0121\n",
      "Epoch 38/50\n",
      "235/235 [==============================] - 2s 8ms/step - loss: 0.0118 - val_loss: 0.0122\n",
      "Epoch 39/50\n",
      "235/235 [==============================] - 2s 8ms/step - loss: 0.0118 - val_loss: 0.0121\n",
      "Epoch 40/50\n",
      "235/235 [==============================] - 2s 8ms/step - loss: 0.0118 - val_loss: 0.0121\n",
      "Epoch 41/50\n",
      "235/235 [==============================] - 2s 8ms/step - loss: 0.0118 - val_loss: 0.0121\n",
      "Epoch 42/50\n",
      "235/235 [==============================] - 2s 8ms/step - loss: 0.0118 - val_loss: 0.0121\n",
      "Epoch 43/50\n",
      "235/235 [==============================] - 2s 8ms/step - loss: 0.0118 - val_loss: 0.0121\n",
      "Epoch 44/50\n",
      "235/235 [==============================] - 2s 8ms/step - loss: 0.0118 - val_loss: 0.0121\n",
      "Epoch 45/50\n",
      "235/235 [==============================] - 2s 8ms/step - loss: 0.0118 - val_loss: 0.0121\n",
      "Epoch 46/50\n",
      "235/235 [==============================] - 2s 8ms/step - loss: 0.0118 - val_loss: 0.0121\n",
      "Epoch 47/50\n",
      "235/235 [==============================] - 2s 9ms/step - loss: 0.0118 - val_loss: 0.0121\n",
      "Epoch 48/50\n",
      "235/235 [==============================] - 2s 8ms/step - loss: 0.0118 - val_loss: 0.0121\n",
      "Epoch 49/50\n",
      "235/235 [==============================] - 2s 9ms/step - loss: 0.0118 - val_loss: 0.0121\n",
      "Epoch 50/50\n",
      "235/235 [==============================] - 2s 9ms/step - loss: 0.0118 - val_loss: 0.0121\n"
     ]
    },
    {
     "data": {
      "text/plain": [
       "<tensorflow.python.keras.callbacks.History at 0x7fdd6e3887c0>"
      ]
     },
     "execution_count": 11,
     "metadata": {},
     "output_type": "execute_result"
    }
   ],
   "source": [
    "model_singleLSTM = keras.models.Sequential([\n",
    "    keras.layers.LSTM(1, input_shape=[None,1]),\n",
    "])\n",
    "\n",
    "model_singleLSTM.compile(loss='mean_squared_error', optimizer='Adam')\n",
    "model_singleLSTM.fit(train_X, train_y, epochs=50, validation_data=(valid_X, valid_y), callbacks=[early_stop_cb])"
   ]
  },
  {
   "cell_type": "code",
   "execution_count": 12,
   "metadata": {},
   "outputs": [
    {
     "name": "stdout",
     "output_type": "stream",
     "text": [
      "Epoch 1/50\n",
      "235/235 [==============================] - 7s 23ms/step - loss: 0.0449 - val_loss: 0.0223\n",
      "Epoch 2/50\n",
      "235/235 [==============================] - 5s 21ms/step - loss: 0.0173 - val_loss: 0.0111\n",
      "Epoch 3/50\n",
      "235/235 [==============================] - 5s 21ms/step - loss: 0.0066 - val_loss: 0.0040\n",
      "Epoch 4/50\n",
      "235/235 [==============================] - 5s 21ms/step - loss: 0.0034 - val_loss: 0.0038\n",
      "Epoch 5/50\n",
      "235/235 [==============================] - 5s 20ms/step - loss: 0.0030 - val_loss: 0.0028\n",
      "Epoch 6/50\n",
      "235/235 [==============================] - 5s 21ms/step - loss: 0.0029 - val_loss: 0.0028\n",
      "Epoch 7/50\n",
      "235/235 [==============================] - 5s 20ms/step - loss: 0.0028 - val_loss: 0.0031\n",
      "Epoch 8/50\n",
      "235/235 [==============================] - 5s 20ms/step - loss: 0.0029 - val_loss: 0.0030\n",
      "Epoch 9/50\n",
      "235/235 [==============================] - 5s 21ms/step - loss: 0.0029 - val_loss: 0.0031\n",
      "Epoch 10/50\n",
      "235/235 [==============================] - 5s 21ms/step - loss: 0.0028 - val_loss: 0.0031\n",
      "Epoch 11/50\n",
      "235/235 [==============================] - 5s 22ms/step - loss: 0.0028 - val_loss: 0.0026\n",
      "Epoch 12/50\n",
      "235/235 [==============================] - 5s 22ms/step - loss: 0.0028 - val_loss: 0.0030\n",
      "Epoch 13/50\n",
      "235/235 [==============================] - 5s 21ms/step - loss: 0.0028 - val_loss: 0.0029\n",
      "Epoch 14/50\n",
      "235/235 [==============================] - 5s 21ms/step - loss: 0.0028 - val_loss: 0.0026\n",
      "Epoch 15/50\n",
      "235/235 [==============================] - 5s 21ms/step - loss: 0.0027 - val_loss: 0.0029\n",
      "Epoch 16/50\n",
      "235/235 [==============================] - 5s 21ms/step - loss: 0.0027 - val_loss: 0.0031\n",
      "Epoch 17/50\n",
      "235/235 [==============================] - 5s 21ms/step - loss: 0.0027 - val_loss: 0.0029\n",
      "Epoch 18/50\n",
      "235/235 [==============================] - 5s 21ms/step - loss: 0.0027 - val_loss: 0.0025\n",
      "Epoch 19/50\n",
      "235/235 [==============================] - 5s 21ms/step - loss: 0.0027 - val_loss: 0.0026\n",
      "Epoch 20/50\n",
      "235/235 [==============================] - 5s 21ms/step - loss: 0.0026 - val_loss: 0.0026\n",
      "Epoch 21/50\n",
      "235/235 [==============================] - 5s 21ms/step - loss: 0.0027 - val_loss: 0.0028\n",
      "Epoch 22/50\n",
      "235/235 [==============================] - 5s 21ms/step - loss: 0.0026 - val_loss: 0.0026\n",
      "Epoch 23/50\n",
      "235/235 [==============================] - 5s 22ms/step - loss: 0.0026 - val_loss: 0.0026\n"
     ]
    },
    {
     "data": {
      "text/plain": [
       "<tensorflow.python.keras.callbacks.History at 0x7fdd6ca1f340>"
      ]
     },
     "execution_count": 12,
     "metadata": {},
     "output_type": "execute_result"
    }
   ],
   "source": [
    "model_deepLSTM = keras.models.Sequential([\n",
    "    keras.layers.LSTM(20, return_sequences=True, input_shape=[None,1]),\n",
    "    keras.layers.LSTM(20),\n",
    "    keras.layers.Dense(1)\n",
    "])\n",
    "\n",
    "model_deepLSTM.compile(loss='mean_squared_error', optimizer='Adam')\n",
    "model_deepLSTM.fit(train_X, train_y, epochs=50, validation_data=(valid_X, valid_y), callbacks=[early_stop_cb])"
   ]
  },
  {
   "cell_type": "code",
   "execution_count": null,
   "metadata": {},
   "outputs": [],
   "source": []
  }
 ],
 "metadata": {
  "kernelspec": {
   "display_name": "Python 3",
   "language": "python",
   "name": "python3"
  },
  "language_info": {
   "codemirror_mode": {
    "name": "ipython",
    "version": 3
   },
   "file_extension": ".py",
   "mimetype": "text/x-python",
   "name": "python",
   "nbconvert_exporter": "python",
   "pygments_lexer": "ipython3",
   "version": "3.8.8"
  }
 },
 "nbformat": 4,
 "nbformat_minor": 4
}
